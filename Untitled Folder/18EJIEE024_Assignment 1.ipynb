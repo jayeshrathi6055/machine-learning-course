{
 "cells": [
  {
   "cell_type": "code",
   "execution_count": 2,
   "metadata": {
    "collapsed": false
   },
   "outputs": [
    {
     "name": "stdout",
     "output_type": "stream",
     "text": [
      "7\n",
      "33\n",
      "1\n",
      "9\n"
     ]
    }
   ],
   "source": [
    "# Quest-2-Write a program to create a user defined tuple with 'int' data type and perform the following operations:\n",
    "#Find the length of tuples\n",
    "#find the sum of all the elements of a tuple\n",
    "#find the largest and smallest element of a tuple\n",
    "\n",
    "integers = (1,2,3,4,6,8,9)\n",
    "print(len(integers))\n",
    "print(sum(integers))\n",
    "print(min(integers))\n",
    "print(max(integers))"
   ]
  },
  {
   "cell_type": "code",
   "execution_count": 32,
   "metadata": {
    "collapsed": false
   },
   "outputs": [
    {
     "name": "stdout",
     "output_type": "stream",
     "text": [
      "[1, 2, 3, 4, 5, 6, 8, 9]\n"
     ]
    }
   ],
   "source": [
    "# Quest-5-Give two lists of integers A and B.Write a program to merge them into a single sorted list that contains every \n",
    "#         item from list A and B in ascending order.\n",
    "\n",
    "a = [1,2,4,9]\n",
    "b = [5,3,6,8]\n",
    "c = a+b\n",
    "c.sort()\n",
    "print(c)"
   ]
  },
  {
   "cell_type": "code",
   "execution_count": 36,
   "metadata": {
    "collapsed": false
   },
   "outputs": [
    {
     "name": "stdout",
     "output_type": "stream",
     "text": [
      "{'oslo': 0, 'moscow': 50, 'berlin': 70, 'nairobi': 100}\n"
     ]
    }
   ],
   "source": [
    "# Quest-6-Create a user defined dictionary to store names and marks of 5 students.Sort the dicitionary according to marks\n",
    "#         and return this sorted dicitionary to the user.\n",
    "\n",
    "dic = {\"berlin\":70,\"oslo\":0,\"moscow\":50,\"nairobi\":100}\n",
    "output = dict([(\"oslo\",0),(\"moscow\",50),(\"berlin\",70),(\"nairobi\",100)])\n",
    "print(output)"
   ]
  },
  {
   "cell_type": "code",
   "execution_count": 25,
   "metadata": {
    "collapsed": false
   },
   "outputs": [
    {
     "name": "stdout",
     "output_type": "stream",
     "text": [
      "[4, 5, 6, 8]\n"
     ]
    }
   ],
   "source": [
    "# Quest-1-write a program to get a user input in the form of a list data type.Return a list by removing all the duplicates.\n",
    "\n",
    "a = [4,4,5,6,8,4,5]\n",
    "a = list(dict.fromkeys(a))\n",
    "a.sort()\n",
    "print(a)"
   ]
  },
  {
   "cell_type": "code",
   "execution_count": 66,
   "metadata": {
    "collapsed": false
   },
   "outputs": [
    {
     "data": {
      "text/plain": [
       "15"
      ]
     },
     "execution_count": 66,
     "metadata": {},
     "output_type": "execute_result"
    }
   ],
   "source": [
    "# Quest-3-Given a number and ith bit,change the ith bit of that number to 1.\n",
    "\n",
    "13^2\n"
   ]
  }
 ],
 "metadata": {
  "kernelspec": {
   "display_name": "Python 3",
   "language": "python",
   "name": "python3"
  },
  "language_info": {
   "codemirror_mode": {
    "name": "ipython",
    "version": 3
   },
   "file_extension": ".py",
   "mimetype": "text/x-python",
   "name": "python",
   "nbconvert_exporter": "python",
   "pygments_lexer": "ipython3",
   "version": "3.6.0"
  }
 },
 "nbformat": 4,
 "nbformat_minor": 2
}
